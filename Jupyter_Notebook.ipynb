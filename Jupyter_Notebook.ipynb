{
 "cells": [
  {
   "cell_type": "markdown",
   "metadata": {},
   "source": [
    "<center>\n",
    "    <img src=\"https://s3-api.us-geo.objectstorage.softlayer.net/cf-courses-data/CognitiveClass/Logos/organization_logo/organization_logo.png\" width=\"300\" alt=\"cognitiveclass.ai logo\"  />\n",
    "</center>\n"
   ]
  },
  {
   "cell_type": "markdown",
   "metadata": {},
   "source": [
    "#### Add your code below following the instructions given in the course\n"
   ]
  },
  {
   "cell_type": "markdown",
   "metadata": {},
   "source": [
    "# My Jupyter Notebook on IBM Watson Studio"
   ]
  },
  {
   "cell_type": "markdown",
   "metadata": {},
   "source": [
    "**Kateryna Meleshenko**\n",
    "<br>Junior Research and Development Engineer"
   ]
  },
  {
   "cell_type": "markdown",
   "metadata": {},
   "source": [
    "*I am interested in data science because I'm a passionate figures, statistics and surveys lover. I also have experience in researches and it's what I really like*"
   ]
  },
  {
   "cell_type": "markdown",
   "metadata": {},
   "source": [
    "### My code is supposed to capitalize a world \"scientist\" "
   ]
  },
  {
   "cell_type": "code",
   "execution_count": 1,
   "metadata": {},
   "outputs": [
    {
     "name": "stdout",
     "output_type": "stream",
     "text": [
      "SCIENTIST\n"
     ]
    }
   ],
   "source": [
    "mystr = \"scientist\"\n",
    "capitalStr = mystr.upper()\n",
    "print(capitalStr)\n"
   ]
  },
  {
   "cell_type": "markdown",
   "metadata": {},
   "source": [
    "---\n",
    "- item 1\n",
    "- item 2\n",
    "- item 3\n",
    "---\n",
    "1. item 1\n",
    "2. item 2\n",
    "3. item 3\n",
    "---\n",
    "| Column 1  | Column 2          | Column 3 |\n",
    "| ------------- |-------------| -----|\n",
    "| cell 1.1    | cell 1.2 | cell 1.3|\n",
    "| cell 2.1    | cell 2.2 | cell 2.3|\n",
    "\n",
    "---\n",
    "My LinkedIn : https://www.linkedin.com/in/kateryna-meleshenko-phd-441224b6/\n",
    "___\n",
    "My city logo:\n",
    "![my_city_logo](https://upload.wikimedia.org/wikipedia/commons/thumb/e/e2/Odessa_logo.svg/1200px-Odessa_logo.svg.png)\n",
    "___\n",
    "```javascript\n",
    "const myName = \"Kateryna Meleshenko\";\n",
    "console.log(myName);\n",
    "```\n",
    "---\n",
    "> Data Science is a magic!\n",
    "---\n",
    "~~Example.~~"
   ]
  },
  {
   "cell_type": "code",
   "execution_count": null,
   "metadata": {},
   "outputs": [],
   "source": []
  }
 ],
 "metadata": {
  "kernelspec": {
   "display_name": "Python",
   "language": "python",
   "name": "conda-env-python-py"
  },
  "language_info": {
   "codemirror_mode": {
    "name": "ipython",
    "version": 3
   },
   "file_extension": ".py",
   "mimetype": "text/x-python",
   "name": "python",
   "nbconvert_exporter": "python",
   "pygments_lexer": "ipython3",
   "version": "3.7.12"
  }
 },
 "nbformat": 4,
 "nbformat_minor": 4
}
